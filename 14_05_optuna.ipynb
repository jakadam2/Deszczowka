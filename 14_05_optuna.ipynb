{
 "cells": [
  {
   "cell_type": "code",
   "execution_count": 2,
   "id": "3e5abb16",
   "metadata": {},
   "outputs": [
    {
     "data": {
      "text/html": [
       "Tracking run with wandb version 0.18.0"
      ],
      "text/plain": [
       "<IPython.core.display.HTML object>"
      ]
     },
     "metadata": {},
     "output_type": "display_data"
    },
    {
     "data": {
      "text/html": [
       "Run data is saved locally in <code>/home/rusiek/Studia/viii_sem/Deszczowka/wandb/run-20250514_141757-pc5ds73v</code>"
      ],
      "text/plain": [
       "<IPython.core.display.HTML object>"
      ]
     },
     "metadata": {},
     "output_type": "display_data"
    },
    {
     "data": {
      "text/html": [
       "Syncing run <strong><a href='https://wandb.ai/rusiek/deszczowka/runs/pc5ds73v' target=\"_blank\">SklearnModel</a></strong> to <a href='https://wandb.ai/rusiek/deszczowka' target=\"_blank\">Weights & Biases</a> (<a href='https://wandb.me/run' target=\"_blank\">docs</a>)<br/>"
      ],
      "text/plain": [
       "<IPython.core.display.HTML object>"
      ]
     },
     "metadata": {},
     "output_type": "display_data"
    },
    {
     "data": {
      "text/html": [
       " View project at <a href='https://wandb.ai/rusiek/deszczowka' target=\"_blank\">https://wandb.ai/rusiek/deszczowka</a>"
      ],
      "text/plain": [
       "<IPython.core.display.HTML object>"
      ]
     },
     "metadata": {},
     "output_type": "display_data"
    },
    {
     "data": {
      "text/html": [
       " View run at <a href='https://wandb.ai/rusiek/deszczowka/runs/pc5ds73v' target=\"_blank\">https://wandb.ai/rusiek/deszczowka/runs/pc5ds73v</a>"
      ],
      "text/plain": [
       "<IPython.core.display.HTML object>"
      ]
     },
     "metadata": {},
     "output_type": "display_data"
    },
    {
     "name": "stderr",
     "output_type": "stream",
     "text": [
      "[I 2025-05-14 14:17:58,369] A new study created in memory with name: no-name-3cb48383-86cf-4cfc-b2b9-9d7e2799376c\n",
      "[I 2025-05-14 14:17:58,373] Trial 0 finished with value: 0.09538763311217248 and parameters: {'alpha': 11.200888060679011, 'fit_intercept': True, 'precompute': False, 'max_iter': 11914, 'tol': 0.0003271231319198935, 'warm_start': True}. Best is trial 0 with value: 0.09538763311217248.\n",
      "[I 2025-05-14 14:17:58,377] Trial 1 finished with value: 0.09538763311217248 and parameters: {'alpha': 0.6243045058868882, 'fit_intercept': True, 'precompute': False, 'max_iter': 19847, 'tol': 0.0014506035645067271, 'warm_start': False}. Best is trial 0 with value: 0.09538763311217248.\n",
      "[I 2025-05-14 14:17:58,381] Trial 2 finished with value: 0.09538763311217248 and parameters: {'alpha': 15.299084799793206, 'fit_intercept': True, 'precompute': True, 'max_iter': 14143, 'tol': 0.002512146389239117, 'warm_start': False}. Best is trial 0 with value: 0.09538763311217248.\n",
      "[I 2025-05-14 14:17:58,385] Trial 3 finished with value: 0.09538763311217248 and parameters: {'alpha': 0.1580424778863594, 'fit_intercept': True, 'precompute': False, 'max_iter': 1016, 'tol': 0.09146560108344584, 'warm_start': True}. Best is trial 0 with value: 0.09538763311217248.\n",
      "[I 2025-05-14 14:17:58,389] Trial 4 finished with value: 0.09538763311217248 and parameters: {'alpha': 142.60430547697155, 'fit_intercept': True, 'precompute': False, 'max_iter': 1872, 'tol': 0.03590658461206223, 'warm_start': False}. Best is trial 0 with value: 0.09538763311217248.\n",
      "[I 2025-05-14 14:17:58,393] Trial 5 finished with value: 0.09538763311217248 and parameters: {'alpha': 0.016987466505574523, 'fit_intercept': True, 'precompute': False, 'max_iter': 8697, 'tol': 0.00026863657815425504, 'warm_start': True}. Best is trial 0 with value: 0.09538763311217248.\n",
      "[I 2025-05-14 14:17:58,397] Trial 6 finished with value: 0.09577313909700452 and parameters: {'alpha': 0.009174284837682387, 'fit_intercept': False, 'precompute': False, 'max_iter': 19648, 'tol': 0.06314051017080137, 'warm_start': False}. Best is trial 0 with value: 0.09538763311217248.\n",
      "[I 2025-05-14 14:17:58,401] Trial 7 finished with value: 0.09577313909700452 and parameters: {'alpha': 205.0622940564829, 'fit_intercept': False, 'precompute': False, 'max_iter': 13151, 'tol': 0.0010368110915989737, 'warm_start': False}. Best is trial 0 with value: 0.09538763311217248.\n",
      "[I 2025-05-14 14:17:58,406] Trial 8 finished with value: 0.09538763311217248 and parameters: {'alpha': 28.463225391508665, 'fit_intercept': True, 'precompute': True, 'max_iter': 18463, 'tol': 0.0010558445525491711, 'warm_start': False}. Best is trial 0 with value: 0.09538763311217248.\n",
      "[I 2025-05-14 14:17:58,410] Trial 9 finished with value: 0.09577313909700452 and parameters: {'alpha': 1.0298471782376093, 'fit_intercept': False, 'precompute': False, 'max_iter': 1179, 'tol': 0.0007158982248101118, 'warm_start': True}. Best is trial 0 with value: 0.09538763311217248.\n",
      "[I 2025-05-14 14:17:58,421] Trial 10 finished with value: 0.09577313909700452 and parameters: {'alpha': 2.3584111272938824, 'fit_intercept': False, 'precompute': True, 'max_iter': 8009, 'tol': 0.00010060183227362695, 'warm_start': True}. Best is trial 0 with value: 0.09538763311217248.\n",
      "[I 2025-05-14 14:17:58,432] Trial 11 finished with value: 0.09538763311217248 and parameters: {'alpha': 0.14578465328069576, 'fit_intercept': True, 'precompute': False, 'max_iter': 15697, 'tol': 0.008305793451572117, 'warm_start': True}. Best is trial 0 with value: 0.09538763311217248.\n",
      "[I 2025-05-14 14:17:58,443] Trial 12 finished with value: 0.09538763311217248 and parameters: {'alpha': 6.09366014673223, 'fit_intercept': True, 'precompute': False, 'max_iter': 5198, 'tol': 0.004533360651676764, 'warm_start': False}. Best is trial 0 with value: 0.09538763311217248.\n",
      "[I 2025-05-14 14:17:58,454] Trial 13 finished with value: 0.09538763311217248 and parameters: {'alpha': 0.22159645157982544, 'fit_intercept': True, 'precompute': False, 'max_iter': 11294, 'tol': 0.00032689132070285744, 'warm_start': True}. Best is trial 0 with value: 0.09538763311217248.\n",
      "[I 2025-05-14 14:17:58,465] Trial 14 finished with value: 0.09538494667677609 and parameters: {'alpha': 0.0017639306003500905, 'fit_intercept': True, 'precompute': True, 'max_iter': 16370, 'tol': 0.00010020833049733646, 'warm_start': False}. Best is trial 14 with value: 0.09538494667677609.\n",
      "[I 2025-05-14 14:17:58,478] Trial 15 finished with value: 0.09538763311217248 and parameters: {'alpha': 0.0023880956794910682, 'fit_intercept': True, 'precompute': True, 'max_iter': 16470, 'tol': 0.0001051818931790227, 'warm_start': True}. Best is trial 14 with value: 0.09538494667677609.\n",
      "[I 2025-05-14 14:17:58,489] Trial 16 finished with value: 0.09538763311217248 and parameters: {'alpha': 854.2267663802194, 'fit_intercept': True, 'precompute': True, 'max_iter': 11106, 'tol': 0.00027548338543820347, 'warm_start': True}. Best is trial 14 with value: 0.09538494667677609.\n",
      "[I 2025-05-14 14:17:58,500] Trial 17 finished with value: 0.09535139592013872 and parameters: {'alpha': 0.001235570563117713, 'fit_intercept': True, 'precompute': True, 'max_iter': 16135, 'tol': 0.0004195731580879964, 'warm_start': False}. Best is trial 17 with value: 0.09535139592013872.\n",
      "[I 2025-05-14 14:17:58,511] Trial 18 finished with value: 0.09545091362871096 and parameters: {'alpha': 0.0010567503623741094, 'fit_intercept': False, 'precompute': True, 'max_iter': 16656, 'tol': 0.00017295803167592308, 'warm_start': False}. Best is trial 17 with value: 0.09535139592013872.\n",
      "[I 2025-05-14 14:17:58,524] Trial 19 finished with value: 0.09538763311217248 and parameters: {'alpha': 0.01950452392763674, 'fit_intercept': True, 'precompute': True, 'max_iter': 14587, 'tol': 0.000556252798646194, 'warm_start': False}. Best is trial 17 with value: 0.09535139592013872.\n",
      "[I 2025-05-14 14:17:58,539] Trial 20 finished with value: 0.09538763311217248 and parameters: {'alpha': 0.004364018040528354, 'fit_intercept': True, 'precompute': True, 'max_iter': 17487, 'tol': 0.013730000087612599, 'warm_start': False}. Best is trial 17 with value: 0.09535139592013872.\n",
      "[I 2025-05-14 14:17:58,552] Trial 21 finished with value: 0.09538763311217248 and parameters: {'alpha': 0.04443425763715654, 'fit_intercept': True, 'precompute': True, 'max_iter': 12606, 'tol': 0.0003911281412944647, 'warm_start': False}. Best is trial 17 with value: 0.09535139592013872.\n",
      "[I 2025-05-14 14:17:58,564] Trial 22 finished with value: 0.0953612073957491 and parameters: {'alpha': 0.0015437787433006688, 'fit_intercept': True, 'precompute': True, 'max_iter': 9304, 'tol': 0.00015594330970258977, 'warm_start': False}. Best is trial 17 with value: 0.09535139592013872.\n",
      "[I 2025-05-14 14:17:58,582] Trial 23 finished with value: 0.09538763311217248 and parameters: {'alpha': 0.0024753636590699925, 'fit_intercept': True, 'precompute': True, 'max_iter': 8567, 'tol': 0.00015372615614970468, 'warm_start': False}. Best is trial 17 with value: 0.09535139592013872.\n",
      "[I 2025-05-14 14:17:58,604] Trial 24 finished with value: 0.09535137723383223 and parameters: {'alpha': 0.0012974958573443481, 'fit_intercept': True, 'precompute': True, 'max_iter': 9688, 'tol': 0.00018318973416852428, 'warm_start': False}. Best is trial 24 with value: 0.09535137723383223.\n",
      "[I 2025-05-14 14:17:58,617] Trial 25 finished with value: 0.09538763311217248 and parameters: {'alpha': 0.007740902223329675, 'fit_intercept': True, 'precompute': True, 'max_iter': 6364, 'tol': 0.00017267607212710398, 'warm_start': False}. Best is trial 24 with value: 0.09535137723383223.\n",
      "[I 2025-05-14 14:17:58,630] Trial 26 finished with value: 0.09577313909700452 and parameters: {'alpha': 0.05691215116392956, 'fit_intercept': False, 'precompute': True, 'max_iter': 9981, 'tol': 0.0005630013105061564, 'warm_start': False}. Best is trial 24 with value: 0.09535137723383223.\n",
      "[I 2025-05-14 14:17:58,652] Trial 27 finished with value: 0.09538763311217248 and parameters: {'alpha': 0.005023813319281005, 'fit_intercept': True, 'precompute': True, 'max_iter': 5255, 'tol': 0.00019625243413479339, 'warm_start': False}. Best is trial 24 with value: 0.09535137723383223.\n",
      "[I 2025-05-14 14:17:58,665] Trial 28 finished with value: 0.09538763311217248 and parameters: {'alpha': 0.03964908333739542, 'fit_intercept': True, 'precompute': True, 'max_iter': 10143, 'tol': 0.0020517450729681435, 'warm_start': False}. Best is trial 24 with value: 0.09535137723383223.\n",
      "[I 2025-05-14 14:17:58,677] Trial 29 finished with value: 0.09535771734677881 and parameters: {'alpha': 0.0014901241616866942, 'fit_intercept': True, 'precompute': True, 'max_iter': 3164, 'tol': 0.00041120728183102626, 'warm_start': False}. Best is trial 24 with value: 0.09535137723383223.\n",
      "[I 2025-05-14 14:17:58,689] Trial 30 finished with value: 0.09535996833648165 and parameters: {'alpha': 0.0010093700710975997, 'fit_intercept': True, 'precompute': True, 'max_iter': 3231, 'tol': 0.004552642910785714, 'warm_start': False}. Best is trial 24 with value: 0.09535137723383223.\n",
      "[I 2025-05-14 14:17:58,702] Trial 31 finished with value: 0.0953554960360235 and parameters: {'alpha': 0.0010875413138768236, 'fit_intercept': True, 'precompute': True, 'max_iter': 3983, 'tol': 0.004777475699873339, 'warm_start': False}. Best is trial 24 with value: 0.09535137723383223.\n",
      "[I 2025-05-14 14:17:58,715] Trial 32 finished with value: 0.09538763311217248 and parameters: {'alpha': 0.0037850848684519147, 'fit_intercept': True, 'precompute': True, 'max_iter': 3530, 'tol': 0.010819781872032901, 'warm_start': False}. Best is trial 24 with value: 0.09535137723383223.\n",
      "[I 2025-05-14 14:17:58,727] Trial 33 finished with value: 0.09538763311217248 and parameters: {'alpha': 0.008466779188456048, 'fit_intercept': True, 'precompute': True, 'max_iter': 6007, 'tol': 0.0014735089734573261, 'warm_start': False}. Best is trial 24 with value: 0.09535137723383223.\n",
      "[I 2025-05-14 14:17:58,739] Trial 34 finished with value: 0.09538763311217248 and parameters: {'alpha': 0.003354689452689714, 'fit_intercept': True, 'precompute': True, 'max_iter': 7334, 'tol': 0.003816041095400134, 'warm_start': False}. Best is trial 24 with value: 0.09535137723383223.\n",
      "[I 2025-05-14 14:17:58,752] Trial 35 finished with value: 0.09538763311217248 and parameters: {'alpha': 0.019497265718228365, 'fit_intercept': True, 'precompute': True, 'max_iter': 3460, 'tol': 0.0004504060026336602, 'warm_start': False}. Best is trial 24 with value: 0.09535137723383223.\n",
      "[I 2025-05-14 14:17:58,773] Trial 36 finished with value: 0.09535480859115916 and parameters: {'alpha': 0.0011028060919742546, 'fit_intercept': True, 'precompute': True, 'max_iter': 2507, 'tol': 0.021425400690222557, 'warm_start': False}. Best is trial 24 with value: 0.09535137723383223.\n",
      "[I 2025-05-14 14:17:58,786] Trial 37 finished with value: 0.09538763311217248 and parameters: {'alpha': 0.01248616394136216, 'fit_intercept': True, 'precompute': True, 'max_iter': 4755, 'tol': 0.024831654356178873, 'warm_start': False}. Best is trial 24 with value: 0.09535137723383223.\n",
      "[I 2025-05-14 14:17:58,810] Trial 38 finished with value: 0.09538763311217248 and parameters: {'alpha': 0.0055611957629722215, 'fit_intercept': True, 'precompute': True, 'max_iter': 2283, 'tol': 0.031920373419958015, 'warm_start': False}. Best is trial 24 with value: 0.09535137723383223.\n",
      "[I 2025-05-14 14:17:58,836] Trial 39 finished with value: 0.09577313909700452 and parameters: {'alpha': 0.07627968668531328, 'fit_intercept': False, 'precompute': True, 'max_iter': 14081, 'tol': 0.047982670368428196, 'warm_start': False}. Best is trial 24 with value: 0.09535137723383223.\n",
      "[I 2025-05-14 14:17:58,858] Trial 40 finished with value: 0.09535892164849744 and parameters: {'alpha': 0.0010253902470493937, 'fit_intercept': True, 'precompute': True, 'max_iter': 7050, 'tol': 0.017826698148779085, 'warm_start': False}. Best is trial 24 with value: 0.09535137723383223.\n",
      "[I 2025-05-14 14:17:58,871] Trial 41 finished with value: 0.09538763311217248 and parameters: {'alpha': 0.002367963721458316, 'fit_intercept': True, 'precompute': True, 'max_iter': 4291, 'tol': 0.007014587580844754, 'warm_start': False}. Best is trial 24 with value: 0.09535137723383223.\n",
      "[I 2025-05-14 14:17:58,886] Trial 42 finished with value: 0.09538576019127223 and parameters: {'alpha': 0.001769260483426026, 'fit_intercept': True, 'precompute': True, 'max_iter': 2278, 'tol': 0.0022927243688200777, 'warm_start': False}. Best is trial 24 with value: 0.09535137723383223.\n",
      "[I 2025-05-14 14:17:58,904] Trial 43 finished with value: 0.09538763311217248 and parameters: {'alpha': 0.013414462062490468, 'fit_intercept': True, 'precompute': True, 'max_iter': 1020, 'tol': 0.0008651197578808079, 'warm_start': False}. Best is trial 24 with value: 0.09535137723383223.\n",
      "[I 2025-05-14 14:17:58,917] Trial 44 finished with value: 0.09538763311217248 and parameters: {'alpha': 0.0036321471136991643, 'fit_intercept': True, 'precompute': True, 'max_iter': 2693, 'tol': 0.0065522921998360005, 'warm_start': False}. Best is trial 24 with value: 0.09535137723383223.\n",
      "[I 2025-05-14 14:17:58,930] Trial 45 finished with value: 0.09538763311217248 and parameters: {'alpha': 0.022953329180704234, 'fit_intercept': True, 'precompute': False, 'max_iter': 19761, 'tol': 0.00024003448600211954, 'warm_start': False}. Best is trial 24 with value: 0.09535137723383223.\n",
      "[I 2025-05-14 14:17:58,943] Trial 46 finished with value: 0.09577313909700452 and parameters: {'alpha': 0.0069304663074104145, 'fit_intercept': False, 'precompute': True, 'max_iter': 5903, 'tol': 0.08336066344125603, 'warm_start': False}. Best is trial 24 with value: 0.09535137723383223.\n",
      "[I 2025-05-14 14:17:58,957] Trial 47 finished with value: 0.09538763311217248 and parameters: {'alpha': 30.97640381342931, 'fit_intercept': True, 'precompute': True, 'max_iter': 4010, 'tol': 0.003183868950835054, 'warm_start': True}. Best is trial 24 with value: 0.09535137723383223.\n",
      "[I 2025-05-14 14:17:58,984] Trial 48 finished with value: 0.09538763311217248 and parameters: {'alpha': 0.46353229607460944, 'fit_intercept': True, 'precompute': False, 'max_iter': 1757, 'tol': 0.0016488877597463198, 'warm_start': False}. Best is trial 24 with value: 0.09535137723383223.\n",
      "[I 2025-05-14 14:17:59,011] Trial 49 finished with value: 0.09537995694970922 and parameters: {'alpha': 0.0017306880691113843, 'fit_intercept': True, 'precompute': True, 'max_iter': 18598, 'tol': 0.0009223099072241519, 'warm_start': True}. Best is trial 24 with value: 0.09535137723383223.\n",
      "[I 2025-05-14 14:17:59,025] Trial 50 finished with value: 0.09545433276804462 and parameters: {'alpha': 0.0011210017091193066, 'fit_intercept': False, 'precompute': True, 'max_iter': 15246, 'tol': 0.0006288675599429505, 'warm_start': False}. Best is trial 24 with value: 0.09535137723383223.\n",
      "[I 2025-05-14 14:17:59,039] Trial 51 finished with value: 0.09535127133973953 and parameters: {'alpha': 0.0012588635682230045, 'fit_intercept': True, 'precompute': True, 'max_iter': 7750, 'tol': 0.019171724885193975, 'warm_start': False}. Best is trial 51 with value: 0.09535127133973953.\n",
      "[I 2025-05-14 14:17:59,060] Trial 52 finished with value: 0.09538763311217248 and parameters: {'alpha': 0.002569236174457523, 'fit_intercept': True, 'precompute': True, 'max_iter': 7845, 'tol': 0.01840767024988568, 'warm_start': False}. Best is trial 51 with value: 0.09535127133973953.\n",
      "[I 2025-05-14 14:17:59,089] Trial 53 finished with value: 0.09537796461935776 and parameters: {'alpha': 0.0017171374558441592, 'fit_intercept': True, 'precompute': True, 'max_iter': 12409, 'tol': 0.05571452055906658, 'warm_start': False}. Best is trial 51 with value: 0.09535127133973953.\n",
      "[I 2025-05-14 14:17:59,139] Trial 54 finished with value: 0.09538763311217248 and parameters: {'alpha': 0.004842059711921283, 'fit_intercept': True, 'precompute': True, 'max_iter': 9427, 'tol': 0.01022225842073529, 'warm_start': False}. Best is trial 51 with value: 0.09535127133973953.\n",
      "[I 2025-05-14 14:17:59,178] Trial 55 finished with value: 0.09535921332412003 and parameters: {'alpha': 0.0010208203592379905, 'fit_intercept': True, 'precompute': False, 'max_iter': 10971, 'tol': 0.03079110530508524, 'warm_start': False}. Best is trial 51 with value: 0.09535127133973953.\n",
      "[I 2025-05-14 14:17:59,206] Trial 56 finished with value: 0.09538763311217248 and parameters: {'alpha': 0.010921075753231669, 'fit_intercept': True, 'precompute': True, 'max_iter': 2861, 'tol': 0.00038317138401690624, 'warm_start': False}. Best is trial 51 with value: 0.09535127133973953.\n",
      "[I 2025-05-14 14:17:59,231] Trial 57 finished with value: 0.09538763311217248 and parameters: {'alpha': 0.0023709004648516706, 'fit_intercept': True, 'precompute': True, 'max_iter': 11861, 'tol': 0.02034231211513922, 'warm_start': True}. Best is trial 51 with value: 0.09535127133973953.\n",
      "[I 2025-05-14 14:17:59,251] Trial 58 finished with value: 0.09538763311217248 and parameters: {'alpha': 5.043442218579517, 'fit_intercept': True, 'precompute': True, 'max_iter': 1673, 'tol': 0.00012818467693190527, 'warm_start': False}. Best is trial 51 with value: 0.09535127133973953.\n",
      "[I 2025-05-14 14:17:59,265] Trial 59 finished with value: 0.09538763311217248 and parameters: {'alpha': 0.003419356692388966, 'fit_intercept': True, 'precompute': True, 'max_iter': 4990, 'tol': 0.00024115695645699988, 'warm_start': False}. Best is trial 51 with value: 0.09535127133973953.\n",
      "[I 2025-05-14 14:17:59,280] Trial 60 finished with value: 0.09577313909700452 and parameters: {'alpha': 0.026685181398405814, 'fit_intercept': False, 'precompute': False, 'max_iter': 8755, 'tol': 0.001166633962398516, 'warm_start': False}. Best is trial 51 with value: 0.09535127133973953.\n",
      "[I 2025-05-14 14:17:59,294] Trial 61 finished with value: 0.09535728954332548 and parameters: {'alpha': 0.0014826287809640067, 'fit_intercept': True, 'precompute': True, 'max_iter': 6909, 'tol': 0.016591264594830537, 'warm_start': False}. Best is trial 51 with value: 0.09535127133973953.\n",
      "[I 2025-05-14 14:17:59,309] Trial 62 finished with value: 0.09536261645595276 and parameters: {'alpha': 0.0015626894261077024, 'fit_intercept': True, 'precompute': True, 'max_iter': 6961, 'tol': 0.03783924094863577, 'warm_start': False}. Best is trial 51 with value: 0.09535127133973953.\n",
      "[I 2025-05-14 14:17:59,327] Trial 63 finished with value: 0.09538763311217248 and parameters: {'alpha': 0.006672777312416173, 'fit_intercept': True, 'precompute': True, 'max_iter': 7953, 'tol': 0.012842867623373689, 'warm_start': False}. Best is trial 51 with value: 0.09535127133973953.\n",
      "[I 2025-05-14 14:17:59,350] Trial 64 finished with value: 0.09538763311217248 and parameters: {'alpha': 0.002586511457083422, 'fit_intercept': True, 'precompute': True, 'max_iter': 4072, 'tol': 0.005142052607286108, 'warm_start': False}. Best is trial 51 with value: 0.09535127133973953.\n",
      "[I 2025-05-14 14:17:59,378] Trial 65 finished with value: 0.0953668012899385 and parameters: {'alpha': 0.001612797658747767, 'fit_intercept': True, 'precompute': True, 'max_iter': 6425, 'tol': 0.0146386506284814, 'warm_start': False}. Best is trial 51 with value: 0.09535127133973953.\n",
      "[I 2025-05-14 14:17:59,398] Trial 66 finished with value: 0.09538763311217248 and parameters: {'alpha': 0.0039037204505958357, 'fit_intercept': True, 'precompute': True, 'max_iter': 5499, 'tol': 0.0003123247714756827, 'warm_start': False}. Best is trial 51 with value: 0.09535127133973953.\n",
      "[I 2025-05-14 14:17:59,413] Trial 67 finished with value: 0.09535156893659437 and parameters: {'alpha': 0.001316243840439197, 'fit_intercept': True, 'precompute': True, 'max_iter': 9309, 'tol': 0.00919688735124351, 'warm_start': True}. Best is trial 51 with value: 0.09535127133973953.\n",
      "[I 2025-05-14 14:17:59,428] Trial 68 finished with value: 0.09538763311217248 and parameters: {'alpha': 98.26598749564667, 'fit_intercept': True, 'precompute': True, 'max_iter': 9043, 'tol': 0.009344295686054334, 'warm_start': True}. Best is trial 51 with value: 0.09535127133973953.\n",
      "[I 2025-05-14 14:17:59,443] Trial 69 finished with value: 0.09538763311217248 and parameters: {'alpha': 0.0027140306050941593, 'fit_intercept': True, 'precompute': True, 'max_iter': 10231, 'tol': 0.02680880730152095, 'warm_start': True}. Best is trial 51 with value: 0.09535127133973953.\n",
      "[I 2025-05-14 14:17:59,457] Trial 70 finished with value: 0.09538763311217248 and parameters: {'alpha': 0.005512688724659033, 'fit_intercept': True, 'precompute': True, 'max_iter': 9779, 'tol': 0.006895221998991796, 'warm_start': True}. Best is trial 51 with value: 0.09535127133973953.\n",
      "[I 2025-05-14 14:17:59,474] Trial 71 finished with value: 0.09535516080919944 and parameters: {'alpha': 0.001440560075489936, 'fit_intercept': True, 'precompute': True, 'max_iter': 8504, 'tol': 0.012595058613101505, 'warm_start': True}. Best is trial 51 with value: 0.09535127133973953.\n",
      "[I 2025-05-14 14:17:59,501] Trial 72 finished with value: 0.09535129048432399 and parameters: {'alpha': 0.0012826738275615872, 'fit_intercept': True, 'precompute': True, 'max_iter': 10632, 'tol': 0.01499324664019419, 'warm_start': True}. Best is trial 51 with value: 0.09535127133973953.\n",
      "[I 2025-05-14 14:17:59,523] Trial 73 finished with value: 0.09536045894543889 and parameters: {'alpha': 0.0010021917873780787, 'fit_intercept': True, 'precompute': True, 'max_iter': 10679, 'tol': 0.011992435071818516, 'warm_start': True}. Best is trial 51 with value: 0.09535127133973953.\n",
      "[I 2025-05-14 14:17:59,543] Trial 74 finished with value: 0.09538763311217248 and parameters: {'alpha': 0.0019986239229320213, 'fit_intercept': True, 'precompute': True, 'max_iter': 13615, 'tol': 0.020418019919717718, 'warm_start': True}. Best is trial 51 with value: 0.09535127133973953.\n",
      "[I 2025-05-14 14:17:59,568] Trial 75 finished with value: 0.09538763311217248 and parameters: {'alpha': 0.0035823747064427547, 'fit_intercept': True, 'precompute': True, 'max_iter': 11589, 'tol': 0.007801435072215766, 'warm_start': True}. Best is trial 51 with value: 0.09535127133973953.\n",
      "[I 2025-05-14 14:17:59,603] Trial 76 finished with value: 0.09538763311217248 and parameters: {'alpha': 1.3183032950935132, 'fit_intercept': True, 'precompute': True, 'max_iter': 8325, 'tol': 0.02297034589203479, 'warm_start': True}. Best is trial 51 with value: 0.09535127133973953.\n",
      "[I 2025-05-14 14:17:59,635] Trial 77 finished with value: 0.09577313909700452 and parameters: {'alpha': 0.0097915639131487, 'fit_intercept': False, 'precompute': True, 'max_iter': 7515, 'tol': 0.005904333455487113, 'warm_start': True}. Best is trial 51 with value: 0.09535127133973953.\n",
      "[I 2025-05-14 14:17:59,669] Trial 78 finished with value: 0.09535258862228688 and parameters: {'alpha': 0.0013685452922933725, 'fit_intercept': True, 'precompute': True, 'max_iter': 12633, 'tol': 0.0030820909637305736, 'warm_start': True}. Best is trial 51 with value: 0.09535127133973953.\n",
      "[I 2025-05-14 14:17:59,697] Trial 79 finished with value: 0.09538763311217248 and parameters: {'alpha': 0.0027338186398128393, 'fit_intercept': True, 'precompute': False, 'max_iter': 12628, 'tol': 0.04138420851733414, 'warm_start': True}. Best is trial 51 with value: 0.09535127133973953.\n",
      "[I 2025-05-14 14:17:59,716] Trial 80 finished with value: 0.0953527970973849 and parameters: {'alpha': 0.0013761770635776663, 'fit_intercept': True, 'precompute': True, 'max_iter': 9571, 'tol': 0.008385023466205174, 'warm_start': True}. Best is trial 51 with value: 0.09535127133973953.\n",
      "[I 2025-05-14 14:17:59,733] Trial 81 finished with value: 0.0953557820381821 and parameters: {'alpha': 0.0014538217073447495, 'fit_intercept': True, 'precompute': True, 'max_iter': 9688, 'tol': 0.013763560114564064, 'warm_start': True}. Best is trial 51 with value: 0.09535127133973953.\n",
      "[I 2025-05-14 14:17:59,756] Trial 82 finished with value: 0.09535273512967618 and parameters: {'alpha': 0.001373965828823142, 'fit_intercept': True, 'precompute': True, 'max_iter': 10808, 'tol': 0.008663480602983142, 'warm_start': True}. Best is trial 51 with value: 0.09535127133973953.\n",
      "[I 2025-05-14 14:17:59,794] Trial 83 finished with value: 0.09538763311217248 and parameters: {'alpha': 0.0020858649333922934, 'fit_intercept': True, 'precompute': True, 'max_iter': 10338, 'tol': 0.015585871051082606, 'warm_start': True}. Best is trial 51 with value: 0.09535127133973953.\n",
      "[I 2025-05-14 14:17:59,809] Trial 84 finished with value: 0.09538763311217248 and parameters: {'alpha': 0.004718055547720601, 'fit_intercept': True, 'precompute': True, 'max_iter': 11152, 'tol': 0.008793882525541103, 'warm_start': True}. Best is trial 51 with value: 0.09535127133973953.\n",
      "[I 2025-05-14 14:17:59,826] Trial 85 finished with value: 0.09535140491529775 and parameters: {'alpha': 0.0013008641031881823, 'fit_intercept': True, 'precompute': True, 'max_iter': 17595, 'tol': 0.0036112850508081924, 'warm_start': True}. Best is trial 51 with value: 0.09535127133973953.\n",
      "[I 2025-05-14 14:17:59,842] Trial 86 finished with value: 0.09538763311217248 and parameters: {'alpha': 0.006746277364143446, 'fit_intercept': True, 'precompute': True, 'max_iter': 17226, 'tol': 0.0020365916831360464, 'warm_start': True}. Best is trial 51 with value: 0.09535127133973953.\n",
      "[I 2025-05-14 14:17:59,857] Trial 87 finished with value: 0.09538763311217248 and parameters: {'alpha': 0.003200069894762261, 'fit_intercept': True, 'precompute': True, 'max_iter': 17865, 'tol': 0.003644266937521847, 'warm_start': True}. Best is trial 51 with value: 0.09535127133973953.\n",
      "[I 2025-05-14 14:17:59,873] Trial 88 finished with value: 0.09538763311217248 and parameters: {'alpha': 660.23024848265, 'fit_intercept': True, 'precompute': True, 'max_iter': 15971, 'tol': 0.0027933526251641165, 'warm_start': True}. Best is trial 51 with value: 0.09535127133973953.\n",
      "[I 2025-05-14 14:17:59,890] Trial 89 finished with value: 0.09538763311217248 and parameters: {'alpha': 0.0020342353721606457, 'fit_intercept': True, 'precompute': True, 'max_iter': 15221, 'tol': 0.0060232908572659125, 'warm_start': True}. Best is trial 51 with value: 0.09535127133973953.\n",
      "[I 2025-05-14 14:17:59,908] Trial 90 finished with value: 0.09538763311217248 and parameters: {'alpha': 0.12308474015766534, 'fit_intercept': True, 'precompute': True, 'max_iter': 9117, 'tol': 0.010725568191883042, 'warm_start': True}. Best is trial 51 with value: 0.09535127133973953.\n",
      "[I 2025-05-14 14:17:59,928] Trial 91 finished with value: 0.09535144511193949 and parameters: {'alpha': 0.0013052208091092012, 'fit_intercept': True, 'precompute': True, 'max_iter': 10711, 'tol': 0.004188226518785658, 'warm_start': True}. Best is trial 51 with value: 0.09535127133973953.\n",
      "[I 2025-05-14 14:17:59,944] Trial 92 finished with value: 0.09535220409966601 and parameters: {'alpha': 0.0013526900263450413, 'fit_intercept': True, 'precompute': True, 'max_iter': 10563, 'tol': 0.0035614858617588206, 'warm_start': True}. Best is trial 51 with value: 0.09535127133973953.\n",
      "[I 2025-05-14 14:17:59,961] Trial 93 finished with value: 0.09535126459078151 and parameters: {'alpha': 0.0012727081509873004, 'fit_intercept': True, 'precompute': True, 'max_iter': 10773, 'tol': 0.00330893849940482, 'warm_start': True}. Best is trial 93 with value: 0.09535126459078151.\n",
      "[I 2025-05-14 14:17:59,988] Trial 94 finished with value: 0.09538763311217248 and parameters: {'alpha': 0.0022504411413228013, 'fit_intercept': True, 'precompute': True, 'max_iter': 13071, 'tol': 0.0036861489045603474, 'warm_start': True}. Best is trial 93 with value: 0.09535126459078151.\n",
      "[I 2025-05-14 14:18:00,010] Trial 95 finished with value: 0.09577313909700452 and parameters: {'alpha': 0.004376868718392133, 'fit_intercept': False, 'precompute': True, 'max_iter': 11474, 'tol': 0.0031426907990322016, 'warm_start': True}. Best is trial 93 with value: 0.09535126459078151.\n",
      "[I 2025-05-14 14:18:00,026] Trial 96 finished with value: 0.09535959171700364 and parameters: {'alpha': 0.001015018831750899, 'fit_intercept': True, 'precompute': True, 'max_iter': 12016, 'tol': 0.0024596097048607585, 'warm_start': True}. Best is trial 93 with value: 0.09535126459078151.\n",
      "[I 2025-05-14 14:18:00,042] Trial 97 finished with value: 0.09538763311217248 and parameters: {'alpha': 0.003016010018409189, 'fit_intercept': True, 'precompute': False, 'max_iter': 18628, 'tol': 0.0019023600319320068, 'warm_start': True}. Best is trial 93 with value: 0.09535126459078151.\n",
      "[I 2025-05-14 14:18:00,058] Trial 98 finished with value: 0.09538763311217248 and parameters: {'alpha': 0.0019849826211601855, 'fit_intercept': True, 'precompute': True, 'max_iter': 19124, 'tol': 0.00393468039576897, 'warm_start': True}. Best is trial 93 with value: 0.09535126459078151.\n",
      "[I 2025-05-14 14:18:00,074] Trial 99 finished with value: 0.09535187377250687 and parameters: {'alpha': 0.0013361995467923071, 'fit_intercept': True, 'precompute': True, 'max_iter': 9965, 'tol': 0.005238507700790399, 'warm_start': True}. Best is trial 93 with value: 0.09535126459078151.\n"
     ]
    },
    {
     "data": {
      "application/vnd.jupyter.widget-view+json": {
       "model_id": "84e9ac5a0a2a4632ad04a0d52ec3501f",
       "version_major": 2,
       "version_minor": 0
      },
      "text/plain": [
       "VBox(children=(Label(value='0.041 MB of 0.041 MB uploaded\\r'), FloatProgress(value=1.0, max=1.0)))"
      ]
     },
     "metadata": {},
     "output_type": "display_data"
    },
    {
     "data": {
      "text/html": [
       "<style>\n",
       "    table.wandb td:nth-child(1) { padding: 0 10px; text-align: left ; width: auto;} td:nth-child(2) {text-align: left ; width: 100%}\n",
       "    .wandb-row { display: flex; flex-direction: row; flex-wrap: wrap; justify-content: flex-start; width: 100% }\n",
       "    .wandb-col { display: flex; flex-direction: column; flex-basis: 100%; flex: 1; padding: 10px; }\n",
       "    </style>\n",
       "<div class=\"wandb-row\"><div class=\"wandb-col\"><h3>Run history:</h3><br/><table class=\"wandb\"><tr><td>alpha</td><td>▁</td></tr><tr><td>max_iter</td><td>▁</td></tr><tr><td>rmse</td><td>▂▂▂▂▂▂▂▂▁▂▁▂▁▂▂▁█▃▁▂▂▁▂▁▂▁▂▂▂█▁▂▂▂▂▁▁█▁▁</td></tr><tr><td>tol</td><td>▁</td></tr></table><br/></div><div class=\"wandb-col\"><h3>Run summary:</h3><br/><table class=\"wandb\"><tr><td>alpha</td><td>0.00127</td></tr><tr><td>fit_intercept</td><td>True</td></tr><tr><td>max_iter</td><td>10773</td></tr><tr><td>precompute</td><td>True</td></tr><tr><td>rmse</td><td>0.09535</td></tr><tr><td>tol</td><td>0.00331</td></tr><tr><td>warm_start</td><td>True</td></tr></table><br/></div></div>"
      ],
      "text/plain": [
       "<IPython.core.display.HTML object>"
      ]
     },
     "metadata": {},
     "output_type": "display_data"
    },
    {
     "data": {
      "text/html": [
       " View run <strong style=\"color:#cdcd00\">SklearnModel</strong> at: <a href='https://wandb.ai/rusiek/deszczowka/runs/pc5ds73v' target=\"_blank\">https://wandb.ai/rusiek/deszczowka/runs/pc5ds73v</a><br/> View project at: <a href='https://wandb.ai/rusiek/deszczowka' target=\"_blank\">https://wandb.ai/rusiek/deszczowka</a><br/>Synced 5 W&B file(s), 0 media file(s), 0 artifact file(s) and 0 other file(s)"
      ],
      "text/plain": [
       "<IPython.core.display.HTML object>"
      ]
     },
     "metadata": {},
     "output_type": "display_data"
    },
    {
     "data": {
      "text/html": [
       "Find logs at: <code>./wandb/run-20250514_141757-pc5ds73v/logs</code>"
      ],
      "text/plain": [
       "<IPython.core.display.HTML object>"
      ]
     },
     "metadata": {},
     "output_type": "display_data"
    },
    {
     "data": {
      "text/html": [
       "There is a new version of wandb available. Please upgrade to wandb==0.19.4"
      ],
      "text/plain": [
       "<IPython.core.display.HTML object>"
      ]
     },
     "metadata": {},
     "output_type": "display_data"
    }
   ],
   "source": [
    "from deszczowka.models.sklearn_model import SklearnModel\n",
    "from deszczowka.configs.lasso_config import LassoConfig\n",
    "from deszczowka.pipeline import Pipeline\n",
    "from sklearn.linear_model import Lasso\n",
    "from pathlib import Path\n",
    "\n",
    "from pandas.errors import SettingWithCopyWarning\n",
    "import warnings\n",
    "warnings.simplefilter(action=\"ignore\", category=SettingWithCopyWarning)\n",
    "\n",
    "model = SklearnModel(Lasso)\n",
    "data_path = Path(\"/home/rusiek/Studia/viii_sem/Deszczowka/tmp.csv\")\n",
    "opt_config = LassoConfig()\n",
    "pipeline = Pipeline(\n",
    "    model=model,\n",
    "    data_path=data_path,\n",
    "    opt_config=opt_config\n",
    ")\n",
    "pipeline.run(n_trials=100)"
   ]
  }
 ],
 "metadata": {
  "kernelspec": {
   "display_name": "base",
   "language": "python",
   "name": "python3"
  },
  "language_info": {
   "codemirror_mode": {
    "name": "ipython",
    "version": 3
   },
   "file_extension": ".py",
   "mimetype": "text/x-python",
   "name": "python",
   "nbconvert_exporter": "python",
   "pygments_lexer": "ipython3",
   "version": "3.11.9"
  }
 },
 "nbformat": 4,
 "nbformat_minor": 5
}
